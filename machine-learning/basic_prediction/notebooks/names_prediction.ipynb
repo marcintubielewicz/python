{
 "cells": [
  {
   "cell_type": "markdown",
   "metadata": {},
   "source": [
    "## Basic gender prediction based on names using data: “https://dane.gov.pl/pl” ##"
   ]
  },
  {
   "cell_type": "code",
   "execution_count": 14,
   "metadata": {},
   "outputs": [],
   "source": [
    "# ! pip install pandas numpy scikit-learn requests seaborn"
   ]
  },
  {
   "cell_type": "code",
   "execution_count": 15,
   "metadata": {},
   "outputs": [],
   "source": [
    "import pandas as pd  # Library for data manipulation and analysis\n",
    "import numpy as np  # Library for efficient numerical computation\n",
    "\n",
    "np.random.seed(0)  # Set the random seed for reproducibility, ensuring results are consistent\n",
    "\n",
    "from sklearn.dummy import DummyClassifier  # Simple baseline classifier for comparison, typically uses simple rules\n",
    "from sklearn.model_selection import train_test_split  # Function to split data into training and testing sets\n",
    "from sklearn.linear_model import LogisticRegression  # A linear model used for binary classification tasks\n",
    "from sklearn.tree import DecisionTreeClassifier  # A tree-based model used for both classification and regression tasks\n",
    "from xgboost import XGBClassifier  # Gradient-boosted decision trees designed for better performance and speed\n",
    "from sklearn.ensemble import RandomForestClassifier  # An ensemble learning method using multiple decision trees for classification\n",
    "from sklearn.ensemble import GradientBoostingClassifier  # An ensemble model that builds trees sequentially for improved performance\n",
    "from sklearn.ensemble import RandomForestRegressor  # Ensemble model for regression tasks using multiple decision trees\n",
    "\n",
    "from sklearn.metrics import accuracy_score  # Metric to evaluate the accuracy of a model\n",
    "from sklearn.metrics import f1_score  # Metric to evaluate the balance between precision and recall, especially useful for imbalanced data\n",
    "from sklearn.metrics import roc_auc_score, roc_curve, RocCurveDisplay  # Metrics and tools to evaluate model performance using ROC curves\n",
    "\n",
    "import matplotlib.pyplot as plt  # Library for creating static, animated, and interactive visualizations\n",
    "\n",
    "# Display plots directly in the notebook\n",
    "%matplotlib inline  \n",
    "\n",
    "import os  # Library for interacting with the operating system, e.g., file paths\n",
    "import requests  # Library for sending HTTP requests, useful for fetching data from web APIs\n",
    "import json  # Library for working with JSON data formats, commonly used for API responses\n",
    "import zipfile  # Library for working with ZIP archives, to compress and extract files\n",
    "import io  # Library for working with in-memory streams, often useful for handling file-like objects\n",
    "import urllib.request  # Module for opening and reading URLs, helpful for downloading files"
   ]
  },
  {
   "cell_type": "code",
   "execution_count": 16,
   "metadata": {},
   "outputs": [],
   "source": [
    "def download_file(url, destination):\n",
    "\n",
    "    try:\n",
    "        response = requests.get(url)\n",
    "\n",
    "        if response.status_code == 200:\n",
    "            with open(destination, \"wb\") as f:\n",
    "                f.write(response.content)\n",
    "            print(f\"File downloaded successfully: {destination}\")\n",
    "        else:\n",
    "            print(f\"Failed to download the file from {url}. Status code: {response.status_code}\")\n",
    "    except Exception as e:\n",
    "        print(f\"Error downloading file from {url}: {e}\")\n",
    "\n",
    "csv_urls = [\n",
    "    \"https://api.dane.gov.pl/media/resources/20240126/7_-_Wykaz_imion_%C5%BCe%C5%84skich_wg_pola_imi%C4%99_pierwsze_wyst%C4%99puj%C4%85cych_w_rejestrze_PESEL_z_uwzgl%C4%99dnieniem_imion_os%C3%B3b_zmar%C5%82ych_EpBAXbE.csv\", \n",
    "    \"https://api.dane.gov.pl/media/resources/20240126/7_-_Wykaz_imion_m%C4%99skich_wg_pola_imi%C4%99_pierwsze_wyst%C4%99puj%C4%85cych_w_rejestrze_PESEL_z_uwzgl%C4%99dnieniem_imion_os%C3%B3b_zmar%C5%82ych.csv\"\n",
    "]\n",
    "\n",
    "output_dir = \"data\"\n",
    "\n",
    "os.makedirs(output_dir, exist_ok=True)"
   ]
  },
  {
   "cell_type": "code",
   "execution_count": 17,
   "metadata": {},
   "outputs": [
    {
     "name": "stdout",
     "output_type": "stream",
     "text": [
      "File already exists: data/data_1.csv\n",
      "File already exists: data/data_2.csv\n"
     ]
    }
   ],
   "source": [
    "for i, url in enumerate(csv_urls):\n",
    "    file_name = f\"data_{i+1}.csv\"\n",
    "    file_path = os.path.join(output_dir, file_name)\n",
    "    \n",
    "    if os.path.exists(file_path):\n",
    "        print(f\"File already exists: {file_path}\")\n",
    "    else:\n",
    "        download_file(url, file_path)"
   ]
  },
  {
   "cell_type": "code",
   "execution_count": 18,
   "metadata": {},
   "outputs": [
    {
     "data": {
      "text/html": [
       "<div>\n",
       "<style scoped>\n",
       "    .dataframe tbody tr th:only-of-type {\n",
       "        vertical-align: middle;\n",
       "    }\n",
       "\n",
       "    .dataframe tbody tr th {\n",
       "        vertical-align: top;\n",
       "    }\n",
       "\n",
       "    .dataframe thead th {\n",
       "        text-align: right;\n",
       "    }\n",
       "</style>\n",
       "<table border=\"1\" class=\"dataframe\">\n",
       "  <thead>\n",
       "    <tr style=\"text-align: right;\">\n",
       "      <th></th>\n",
       "      <th>IMIĘ_PIERWSZE</th>\n",
       "      <th>PŁEĆ</th>\n",
       "      <th>LICZBA_WYSTĄPIEŃ</th>\n",
       "    </tr>\n",
       "  </thead>\n",
       "  <tbody>\n",
       "    <tr>\n",
       "      <th>51452</th>\n",
       "      <td>ANAND KUMAR</td>\n",
       "      <td>MĘŻCZYZNA</td>\n",
       "      <td>3</td>\n",
       "    </tr>\n",
       "    <tr>\n",
       "      <th>19827</th>\n",
       "      <td>VAIDEHI</td>\n",
       "      <td>KOBIETA</td>\n",
       "      <td>2</td>\n",
       "    </tr>\n",
       "    <tr>\n",
       "      <th>47473</th>\n",
       "      <td>RIFQI</td>\n",
       "      <td>MĘŻCZYZNA</td>\n",
       "      <td>3</td>\n",
       "    </tr>\n",
       "    <tr>\n",
       "      <th>51919</th>\n",
       "      <td>KUBATBEK</td>\n",
       "      <td>MĘŻCZYZNA</td>\n",
       "      <td>3</td>\n",
       "    </tr>\n",
       "    <tr>\n",
       "      <th>5726</th>\n",
       "      <td>KALI</td>\n",
       "      <td>KOBIETA</td>\n",
       "      <td>12</td>\n",
       "    </tr>\n",
       "  </tbody>\n",
       "</table>\n",
       "</div>"
      ],
      "text/plain": [
       "      IMIĘ_PIERWSZE       PŁEĆ  LICZBA_WYSTĄPIEŃ\n",
       "51452   ANAND KUMAR  MĘŻCZYZNA                 3\n",
       "19827       VAIDEHI    KOBIETA                 2\n",
       "47473         RIFQI  MĘŻCZYZNA                 3\n",
       "51919      KUBATBEK  MĘŻCZYZNA                 3\n",
       "5726           KALI    KOBIETA                12"
      ]
     },
     "execution_count": 18,
     "metadata": {},
     "output_type": "execute_result"
    }
   ],
   "source": [
    "df = pd.concat(\n",
    "    map(pd.read_csv, [r\"data/data_1.csv\", r\"data/data_2.csv\"]), ignore_index=True\n",
    "    )\n",
    "\n",
    "df.sample(5)"
   ]
  },
  {
   "cell_type": "code",
   "execution_count": 19,
   "metadata": {},
   "outputs": [],
   "source": [
    "df = df.rename(columns={\n",
    "    \"IMIĘ_PIERWSZE\": \"name\", \n",
    "    \"PŁEĆ\": \"sex\", \n",
    "    \"LICZBA_WYSTĄPIEŃ\": \"occurencies\"\n",
    "})\n",
    "\n",
    "df['sex'] = df['sex'].map(lambda x: \"man\" if x=='MĘŻCZYZNA' else \"woman\")"
   ]
  },
  {
   "cell_type": "code",
   "execution_count": 20,
   "metadata": {},
   "outputs": [
    {
     "name": "stdout",
     "output_type": "stream",
     "text": [
      "<class 'pandas.core.frame.DataFrame'>\n",
      "RangeIndex: 65789 entries, 0 to 65788\n",
      "Data columns (total 3 columns):\n",
      " #   Column       Non-Null Count  Dtype \n",
      "---  ------       --------------  ----- \n",
      " 0   name         65788 non-null  object\n",
      " 1   sex          65789 non-null  object\n",
      " 2   occurencies  65789 non-null  int64 \n",
      "dtypes: int64(1), object(2)\n",
      "memory usage: 1.5+ MB\n"
     ]
    }
   ],
   "source": [
    "df.info()"
   ]
  },
  {
   "cell_type": "code",
   "execution_count": 21,
   "metadata": {},
   "outputs": [
    {
     "data": {
      "text/html": [
       "<div>\n",
       "<style scoped>\n",
       "    .dataframe tbody tr th:only-of-type {\n",
       "        vertical-align: middle;\n",
       "    }\n",
       "\n",
       "    .dataframe tbody tr th {\n",
       "        vertical-align: top;\n",
       "    }\n",
       "\n",
       "    .dataframe thead th {\n",
       "        text-align: right;\n",
       "    }\n",
       "</style>\n",
       "<table border=\"1\" class=\"dataframe\">\n",
       "  <thead>\n",
       "    <tr style=\"text-align: right;\">\n",
       "      <th></th>\n",
       "      <th>name</th>\n",
       "      <th>sex</th>\n",
       "      <th>occurencies</th>\n",
       "    </tr>\n",
       "  </thead>\n",
       "  <tbody>\n",
       "    <tr>\n",
       "      <th>2773</th>\n",
       "      <td>NaN</td>\n",
       "      <td>woman</td>\n",
       "      <td>35</td>\n",
       "    </tr>\n",
       "  </tbody>\n",
       "</table>\n",
       "</div>"
      ],
      "text/plain": [
       "     name    sex  occurencies\n",
       "2773  NaN  woman           35"
      ]
     },
     "execution_count": 21,
     "metadata": {},
     "output_type": "execute_result"
    }
   ],
   "source": [
    "df_null_values = df[df.isnull().any(axis=1)]\n",
    "df_null_values"
   ]
  },
  {
   "cell_type": "code",
   "execution_count": 22,
   "metadata": {},
   "outputs": [
    {
     "data": {
      "text/plain": [
       "0"
      ]
     },
     "execution_count": 22,
     "metadata": {},
     "output_type": "execute_result"
    }
   ],
   "source": [
    "duplicates = df[df.duplicated(keep=False)]\n",
    "len(duplicates)"
   ]
  },
  {
   "cell_type": "code",
   "execution_count": 24,
   "metadata": {},
   "outputs": [
    {
     "data": {
      "text/plain": [
       "sex\n",
       "man      39360\n",
       "woman    26428\n",
       "Name: name, dtype: int64"
      ]
     },
     "execution_count": 24,
     "metadata": {},
     "output_type": "execute_result"
    }
   ],
   "source": [
    "df = df.dropna(axis=0)\n",
    "df.groupby(by='sex')['name'].count()"
   ]
  },
  {
   "cell_type": "code",
   "execution_count": 25,
   "metadata": {},
   "outputs": [
    {
     "data": {
      "text/html": [
       "<div>\n",
       "<style scoped>\n",
       "    .dataframe tbody tr th:only-of-type {\n",
       "        vertical-align: middle;\n",
       "    }\n",
       "\n",
       "    .dataframe tbody tr th {\n",
       "        vertical-align: top;\n",
       "    }\n",
       "\n",
       "    .dataframe thead th {\n",
       "        text-align: right;\n",
       "    }\n",
       "</style>\n",
       "<table border=\"1\" class=\"dataframe\">\n",
       "  <thead>\n",
       "    <tr style=\"text-align: right;\">\n",
       "      <th></th>\n",
       "      <th>name</th>\n",
       "      <th>sex</th>\n",
       "      <th>occurencies</th>\n",
       "      <th>nameLenght</th>\n",
       "    </tr>\n",
       "  </thead>\n",
       "  <tbody>\n",
       "    <tr>\n",
       "      <th>44128</th>\n",
       "      <td>TÀI</td>\n",
       "      <td>man</td>\n",
       "      <td>4</td>\n",
       "      <td>3</td>\n",
       "    </tr>\n",
       "    <tr>\n",
       "      <th>16767</th>\n",
       "      <td>DEE</td>\n",
       "      <td>woman</td>\n",
       "      <td>3</td>\n",
       "      <td>3</td>\n",
       "    </tr>\n",
       "    <tr>\n",
       "      <th>16810</th>\n",
       "      <td>NEO</td>\n",
       "      <td>woman</td>\n",
       "      <td>3</td>\n",
       "      <td>3</td>\n",
       "    </tr>\n",
       "    <tr>\n",
       "      <th>16822</th>\n",
       "      <td>MEE</td>\n",
       "      <td>woman</td>\n",
       "      <td>3</td>\n",
       "      <td>3</td>\n",
       "    </tr>\n",
       "    <tr>\n",
       "      <th>16848</th>\n",
       "      <td>NGO</td>\n",
       "      <td>woman</td>\n",
       "      <td>3</td>\n",
       "      <td>3</td>\n",
       "    </tr>\n",
       "  </tbody>\n",
       "</table>\n",
       "</div>"
      ],
      "text/plain": [
       "      name    sex  occurencies  nameLenght\n",
       "44128  TÀI    man            4           3\n",
       "16767  DEE  woman            3           3\n",
       "16810  NEO  woman            3           3\n",
       "16822  MEE  woman            3           3\n",
       "16848  NGO  woman            3           3"
      ]
     },
     "execution_count": 25,
     "metadata": {},
     "output_type": "execute_result"
    }
   ],
   "source": [
    "df['nameLenght'] = df['name'].map(lambda x: len(x))\n",
    "df = df[df['nameLenght'] >= 3]\n",
    "df.sort_values(by='nameLenght', ascending=True).head()"
   ]
  },
  {
   "cell_type": "code",
   "execution_count": 26,
   "metadata": {},
   "outputs": [],
   "source": [
    "feat = ['nameLenght']\n",
    "\n",
    "df['target_value'] = df['sex'].map(lambda x: int(x=='man'))"
   ]
  },
  {
   "cell_type": "code",
   "execution_count": 27,
   "metadata": {},
   "outputs": [],
   "source": [
    "model1 = LogisticRegression()\n",
    "\n",
    "X = df[feat]\n",
    "y = df['target_value']"
   ]
  },
  {
   "cell_type": "code",
   "execution_count": 28,
   "metadata": {},
   "outputs": [
    {
     "data": {
      "text/plain": [
       "((65623, 1), (65623,))"
      ]
     },
     "execution_count": 28,
     "metadata": {},
     "output_type": "execute_result"
    }
   ],
   "source": [
    "X.shape, y.shape"
   ]
  },
  {
   "cell_type": "code",
   "execution_count": 29,
   "metadata": {},
   "outputs": [],
   "source": [
    "X_train, X_test, y_train, y_test = train_test_split(\n",
    "    X, y, test_size=0.2, random_state=42\n",
    ")"
   ]
  },
  {
   "cell_type": "code",
   "execution_count": 30,
   "metadata": {},
   "outputs": [],
   "source": [
    "def train_and_predict(X_train, X_test, y_train, y_test, model, success_metric=accuracy_score):\n",
    "    model.fit(X_train, y_train)\n",
    "    y_pred = model.predict(X_test)\n",
    "    accuracy_score = success_metric(y_test, y_pred)\n",
    "    print(f\"accuracy score for {model} is: {round(accuracy_score, 2)*100}%\")\n",
    "    return y_pred"
   ]
  },
  {
   "cell_type": "code",
   "execution_count": 31,
   "metadata": {},
   "outputs": [
    {
     "name": "stdout",
     "output_type": "stream",
     "text": [
      "accuracy score for LogisticRegression() is: 60.0%\n"
     ]
    }
   ],
   "source": [
    "firstPrediction =train_and_predict(X_train, X_test, y_train, y_test, model1)"
   ]
  },
  {
   "cell_type": "code",
   "execution_count": 32,
   "metadata": {},
   "outputs": [],
   "source": [
    "model2 = LogisticRegression(solver=\"lbfgs\", verbose=1, max_iter=100, n_jobs=5)"
   ]
  },
  {
   "cell_type": "code",
   "execution_count": 33,
   "metadata": {},
   "outputs": [
    {
     "name": "stderr",
     "output_type": "stream",
     "text": [
      "[Parallel(n_jobs=5)]: Using backend LokyBackend with 5 concurrent workers.\n"
     ]
    },
    {
     "name": "stdout",
     "output_type": "stream",
     "text": [
      "RUNNING THE L-BFGS-B CODE\n",
      "\n",
      "           * * *\n",
      "\n",
      "Machine precision = 2.220D-16\n",
      " N =            2     M =           10\n",
      "\n",
      "At X0         0 variables are exactly at the bounds\n",
      "\n",
      "At iterate    0    f=  6.93147D-01    |proj g|=  7.67286D-01\n",
      "\n",
      "           * * *\n",
      "\n",
      "Tit   = total number of iterations\n",
      "Tnf   = total number of function evaluations\n",
      "Tnint = total number of segments explored during Cauchy searches\n",
      "Skip  = number of BFGS updates skipped\n",
      "Nact  = number of active bounds at final generalized Cauchy point\n",
      "Projg = norm of the final projected gradient\n",
      "F     = final function value\n",
      "\n",
      "           * * *\n",
      "\n",
      "   N    Tit     Tnf  Tnint  Skip  Nact     Projg        F\n",
      "    2      9     13      1     0     0   4.761D-06   6.730D-01\n",
      "  F =  0.67304900465765893     \n",
      "\n",
      "CONVERGENCE: NORM_OF_PROJECTED_GRADIENT_<=_PGTOL            \n",
      "accuracy score for LogisticRegression(n_jobs=5, verbose=1) is: 60.0%\n"
     ]
    },
    {
     "name": "stderr",
     "output_type": "stream",
     "text": [
      " This problem is unconstrained.\n"
     ]
    }
   ],
   "source": [
    "secondPrediction = train_and_predict(X_train, X_test, y_train, y_test, model2)"
   ]
  },
  {
   "cell_type": "code",
   "execution_count": 34,
   "metadata": {},
   "outputs": [
    {
     "data": {
      "text/html": [
       "<div>\n",
       "<style scoped>\n",
       "    .dataframe tbody tr th:only-of-type {\n",
       "        vertical-align: middle;\n",
       "    }\n",
       "\n",
       "    .dataframe tbody tr th {\n",
       "        vertical-align: top;\n",
       "    }\n",
       "\n",
       "    .dataframe thead th {\n",
       "        text-align: right;\n",
       "    }\n",
       "</style>\n",
       "<table border=\"1\" class=\"dataframe\">\n",
       "  <thead>\n",
       "    <tr style=\"text-align: right;\">\n",
       "      <th></th>\n",
       "      <th>name</th>\n",
       "      <th>sex</th>\n",
       "      <th>occurencies</th>\n",
       "      <th>nameLenght</th>\n",
       "      <th>target_value</th>\n",
       "      <th>lastIsVowel</th>\n",
       "      <th>firstIsVowel</th>\n",
       "    </tr>\n",
       "  </thead>\n",
       "  <tbody>\n",
       "    <tr>\n",
       "      <th>0</th>\n",
       "      <td>ANNA</td>\n",
       "      <td>woman</td>\n",
       "      <td>1365614</td>\n",
       "      <td>4</td>\n",
       "      <td>0</td>\n",
       "      <td>1</td>\n",
       "      <td>1</td>\n",
       "    </tr>\n",
       "    <tr>\n",
       "      <th>1</th>\n",
       "      <td>MARIA</td>\n",
       "      <td>woman</td>\n",
       "      <td>1013781</td>\n",
       "      <td>5</td>\n",
       "      <td>0</td>\n",
       "      <td>1</td>\n",
       "      <td>0</td>\n",
       "    </tr>\n",
       "    <tr>\n",
       "      <th>2</th>\n",
       "      <td>ZOFIA</td>\n",
       "      <td>woman</td>\n",
       "      <td>722555</td>\n",
       "      <td>5</td>\n",
       "      <td>0</td>\n",
       "      <td>1</td>\n",
       "      <td>0</td>\n",
       "    </tr>\n",
       "    <tr>\n",
       "      <th>3</th>\n",
       "      <td>KATARZYNA</td>\n",
       "      <td>woman</td>\n",
       "      <td>681719</td>\n",
       "      <td>9</td>\n",
       "      <td>0</td>\n",
       "      <td>1</td>\n",
       "      <td>0</td>\n",
       "    </tr>\n",
       "    <tr>\n",
       "      <th>4</th>\n",
       "      <td>MAŁGORZATA</td>\n",
       "      <td>woman</td>\n",
       "      <td>626147</td>\n",
       "      <td>10</td>\n",
       "      <td>0</td>\n",
       "      <td>1</td>\n",
       "      <td>0</td>\n",
       "    </tr>\n",
       "  </tbody>\n",
       "</table>\n",
       "</div>"
      ],
      "text/plain": [
       "         name    sex  occurencies  nameLenght  target_value  lastIsVowel  \\\n",
       "0        ANNA  woman      1365614           4             0            1   \n",
       "1       MARIA  woman      1013781           5             0            1   \n",
       "2       ZOFIA  woman       722555           5             0            1   \n",
       "3   KATARZYNA  woman       681719           9             0            1   \n",
       "4  MAŁGORZATA  woman       626147          10             0            1   \n",
       "\n",
       "   firstIsVowel  \n",
       "0             1  \n",
       "1             0  \n",
       "2             0  \n",
       "3             0  \n",
       "4             0  "
      ]
     },
     "execution_count": 34,
     "metadata": {},
     "output_type": "execute_result"
    }
   ],
   "source": [
    "vowels = \"aeiouyAEIOUY\"\n",
    "\n",
    "df['lastIsVowel'] = df['name'].map(lambda x: int(x[-1] in vowels))\n",
    "df['firstIsVowel'] = df['name'].map(lambda x: int(x[0] in vowels))\n",
    "\n",
    "df.head()"
   ]
  },
  {
   "cell_type": "code",
   "execution_count": 35,
   "metadata": {},
   "outputs": [
    {
     "name": "stdout",
     "output_type": "stream",
     "text": [
      "accuracy score for LogisticRegression() is: 72.0%\n"
     ]
    }
   ],
   "source": [
    "features = ['nameLenght', 'lastIsVowel', 'firstIsVowel']\n",
    "X = df[features]\n",
    "\n",
    "X_train, X_test, y_train, y_test = train_test_split(\n",
    "    X, y, test_size=0.2, random_state=42\n",
    ")\n",
    "\n",
    "thirdPrediction = train_and_predict(X_train, X_test, y_train, y_test, model1)"
   ]
  },
  {
   "cell_type": "code",
   "execution_count": 36,
   "metadata": {},
   "outputs": [
    {
     "name": "stderr",
     "output_type": "stream",
     "text": [
      "[Parallel(n_jobs=5)]: Using backend LokyBackend with 5 concurrent workers.\n"
     ]
    },
    {
     "name": "stdout",
     "output_type": "stream",
     "text": [
      "RUNNING THE L-BFGS-B CODE\n",
      "\n",
      "           * * *\n",
      "\n",
      "Machine precision = 2.220D-16\n",
      " N =            4     M =           10\n",
      "\n",
      "At X0         0 variables are exactly at the bounds\n",
      "\n",
      "At iterate    0    f=  6.93147D-01    |proj g|=  7.67286D-01\n",
      "\n",
      "           * * *\n",
      "\n",
      "Tit   = total number of iterations\n",
      "Tnf   = total number of function evaluations\n",
      "Tnint = total number of segments explored during Cauchy searches\n",
      "Skip  = number of BFGS updates skipped\n",
      "Nact  = number of active bounds at final generalized Cauchy point\n",
      "Projg = norm of the final projected gradient\n",
      "F     = final function value\n",
      "\n",
      "           * * *\n",
      "\n",
      "   N    Tit     Tnf  Tnint  Skip  Nact     Projg        F\n",
      "    4     25     29      1     0     0   3.627D-05   5.716D-01\n",
      "  F =  0.57155284897203618     \n",
      "\n",
      "CONVERGENCE: NORM_OF_PROJECTED_GRADIENT_<=_PGTOL            \n",
      "accuracy score for LogisticRegression(n_jobs=5, verbose=1) is: 72.0%\n"
     ]
    },
    {
     "name": "stderr",
     "output_type": "stream",
     "text": [
      " This problem is unconstrained.\n"
     ]
    }
   ],
   "source": [
    "fourthPrediction = train_and_predict(X_train, X_test, y_train, y_test, model2)"
   ]
  },
  {
   "cell_type": "code",
   "execution_count": 37,
   "metadata": {},
   "outputs": [
    {
     "name": "stdout",
     "output_type": "stream",
     "text": [
      "accuracy score for DecisionTreeClassifier() is: 72.0%\n"
     ]
    }
   ],
   "source": [
    "model5 = DecisionTreeClassifier()\n",
    "\n",
    "fifthPrediction = train_and_predict(X_train, X_test, y_train, y_test, model5)   "
   ]
  },
  {
   "cell_type": "code",
   "execution_count": 38,
   "metadata": {},
   "outputs": [
    {
     "name": "stdout",
     "output_type": "stream",
     "text": [
      "accuracy score for XGBClassifier(base_score=None, booster=None, callbacks=None,\n",
      "              colsample_bylevel=None, colsample_bynode=None,\n",
      "              colsample_bytree=None, device=None, early_stopping_rounds=None,\n",
      "              enable_categorical=False, eval_metric=None, feature_types=None,\n",
      "              gamma=None, grow_policy=None, importance_type=None,\n",
      "              interaction_constraints=None, learning_rate=None, max_bin=None,\n",
      "              max_cat_threshold=None, max_cat_to_onehot=None,\n",
      "              max_delta_step=None, max_depth=None, max_leaves=None,\n",
      "              min_child_weight=None, missing=nan, monotone_constraints=None,\n",
      "              multi_strategy=None, n_estimators=None, n_jobs=None,\n",
      "              num_parallel_tree=None, random_state=None, ...) is: 72.0%\n"
     ]
    }
   ],
   "source": [
    "model6 = XGBClassifier()\n",
    "\n",
    "sixthPrediction = train_and_predict(X_train, X_test, y_train, y_test, model6)"
   ]
  },
  {
   "cell_type": "code",
   "execution_count": 39,
   "metadata": {},
   "outputs": [
    {
     "data": {
      "text/html": [
       "<div>\n",
       "<style scoped>\n",
       "    .dataframe tbody tr th:only-of-type {\n",
       "        vertical-align: middle;\n",
       "    }\n",
       "\n",
       "    .dataframe tbody tr th {\n",
       "        vertical-align: top;\n",
       "    }\n",
       "\n",
       "    .dataframe thead th {\n",
       "        text-align: right;\n",
       "    }\n",
       "</style>\n",
       "<table border=\"1\" class=\"dataframe\">\n",
       "  <thead>\n",
       "    <tr style=\"text-align: right;\">\n",
       "      <th></th>\n",
       "      <th>name</th>\n",
       "      <th>sex</th>\n",
       "      <th>nameLenght</th>\n",
       "      <th>target_value</th>\n",
       "      <th>lastIsVowel</th>\n",
       "      <th>firstIsVowel</th>\n",
       "    </tr>\n",
       "  </thead>\n",
       "  <tbody>\n",
       "    <tr>\n",
       "      <th>0</th>\n",
       "      <td>ANNA</td>\n",
       "      <td>woman</td>\n",
       "      <td>4</td>\n",
       "      <td>0</td>\n",
       "      <td>1</td>\n",
       "      <td>1</td>\n",
       "    </tr>\n",
       "    <tr>\n",
       "      <th>1</th>\n",
       "      <td>MARIA</td>\n",
       "      <td>woman</td>\n",
       "      <td>5</td>\n",
       "      <td>0</td>\n",
       "      <td>1</td>\n",
       "      <td>0</td>\n",
       "    </tr>\n",
       "    <tr>\n",
       "      <th>2</th>\n",
       "      <td>ZOFIA</td>\n",
       "      <td>woman</td>\n",
       "      <td>5</td>\n",
       "      <td>0</td>\n",
       "      <td>1</td>\n",
       "      <td>0</td>\n",
       "    </tr>\n",
       "    <tr>\n",
       "      <th>3</th>\n",
       "      <td>KATARZYNA</td>\n",
       "      <td>woman</td>\n",
       "      <td>9</td>\n",
       "      <td>0</td>\n",
       "      <td>1</td>\n",
       "      <td>0</td>\n",
       "    </tr>\n",
       "    <tr>\n",
       "      <th>4</th>\n",
       "      <td>MAŁGORZATA</td>\n",
       "      <td>woman</td>\n",
       "      <td>10</td>\n",
       "      <td>0</td>\n",
       "      <td>1</td>\n",
       "      <td>0</td>\n",
       "    </tr>\n",
       "  </tbody>\n",
       "</table>\n",
       "</div>"
      ],
      "text/plain": [
       "         name    sex  nameLenght  target_value  lastIsVowel  firstIsVowel\n",
       "0        ANNA  woman           4             0            1             1\n",
       "1       MARIA  woman           5             0            1             0\n",
       "2       ZOFIA  woman           5             0            1             0\n",
       "3   KATARZYNA  woman           9             0            1             0\n",
       "4  MAŁGORZATA  woman          10             0            1             0"
      ]
     },
     "execution_count": 39,
     "metadata": {},
     "output_type": "execute_result"
    }
   ],
   "source": [
    "df = df.drop(columns=['occurencies'])\n",
    "df = df.drop_duplicates(subset=['name'], keep=\"first\")\n",
    "df.head()"
   ]
  },
  {
   "cell_type": "code",
   "execution_count": 40,
   "metadata": {},
   "outputs": [
    {
     "data": {
      "text/plain": [
       "sex\n",
       "man      36333\n",
       "woman    26362\n",
       "Name: name, dtype: int64"
      ]
     },
     "execution_count": 40,
     "metadata": {},
     "output_type": "execute_result"
    }
   ],
   "source": [
    "df.groupby('sex')['name'].count()"
   ]
  },
  {
   "cell_type": "code",
   "execution_count": 41,
   "metadata": {},
   "outputs": [
    {
     "name": "stdout",
     "output_type": "stream",
     "text": [
      "accuracy score for RandomForestClassifier() is: 72.0%\n",
      "accuracy score for GradientBoostingClassifier() is: 72.0%\n"
     ]
    }
   ],
   "source": [
    "model7 = RandomForestClassifier()\n",
    "model8 = GradientBoostingClassifier()\n",
    "# model9 = RandomForestRegressor()\n",
    "\n",
    "seventhPrediction = train_and_predict(X_train, X_test, y_train, y_test, model7) \n",
    "eighthPrediction = train_and_predict(X_train, X_test, y_train, y_test, model8)  \n",
    "# ninthPrediction = train_and_predict(X_train, X_test, y_train, y_test, model9)"
   ]
  },
  {
   "cell_type": "code",
   "execution_count": 42,
   "metadata": {},
   "outputs": [],
   "source": [
    "# import necessary modules from scikit-learn\n",
    "from sklearn.model_selection import learning_curve\n",
    "from sklearn.model_selection import ShuffleSplit\n",
    "from matplotlib import pyplot as plt\n",
    "\n",
    "# define the functon with some parameters like:\n",
    "# model - used ML model\n",
    "# title - specifies title of the plot\n",
    "# X - input data\n",
    "# y - target variable\n",
    "# ylim - sets the border limit for the y-axis of the plot\n",
    "# cd - param of cross-validation strategy used to evaluate the performance of a model by splitting the data into multiple subsets\n",
    "# n_jobs - the number of parallel jobs to run during cross-validation. If set to '-1' all available processors wil lbe used, if '1' no parallel computing code will be used\n",
    "# train_sizes - param that determines the sizes of the training set used to generate the learning curve. By default it generates 5 evenly spaced values between 10-100% of the tr.data\n",
    "def plot_learning_curve(model, title, X, y, ylim=None, cv=None, n_jobs=1, train_sizes=np.linspace(.1, 1.0, 5)):\n",
    "    \n",
    "# sets up the plot with, define its size, title and y-axis limit if does not set\n",
    "    plt.figure(figsize=(10,8))\n",
    "    plt.title(title)\n",
    "    if ylim is not None:plt.ylim(*ylim)\n",
    "\n",
    "    plt.xlabel(\"Training examples\")\n",
    "    plt.ylabel(\"Score\")\n",
    "    \n",
    "# generates learning_curve function from scikit-learn. It computes test ant train scores for different trainind set sizes\n",
    "    train_sizes, train_scores, test_scores = learning_curve(\n",
    "    model, X, y, cv=cv, n_jobs=n_jobs, train_sizes=train_sizes)\n",
    "    \n",
    "# calculates mean and std dev. of train and test scores across different trainig set sizes\n",
    "    train_scores_mean = np.mean(train_scores, axis=1)\n",
    "    train_scores_std = np.std(train_scores, axis=1)\n",
    "    test_scores_mean = np.mean(test_scores, axis=1)\n",
    "    test_scores_std = np.std(test_scores, axis=1)\n",
    "    \n",
    "# fills the area around the mean train and sets scores  to represent     \n",
    "    plt.grid()\n",
    "\n",
    "    plt.fill_between(train_sizes, train_scores_mean - train_scores_std,\n",
    "                     train_scores_mean + train_scores_std, alpha=0.1,\n",
    "                     color=\"r\")\n",
    "    plt.fill_between(train_sizes, test_scores_mean - test_scores_std,\n",
    "                     test_scores_mean + test_scores_std, alpha=0.1, color=\"g\")\n",
    "    \n",
    "# plots the mean train and test scores against training set sizes and adds a legend\n",
    "    plt.plot(train_sizes, train_scores_mean, 'o-', color=\"r\",\n",
    "             label=\"Training score\")\n",
    "    plt.plot(train_sizes, test_scores_mean, 'o-', color=\"g\",\n",
    "             label=\"Cross-validation score\")\n",
    "\n",
    "    plt.legend(loc=\"best\")\n",
    "\n",
    "# returns the plot object\n",
    "    return plt"
   ]
  },
  {
   "cell_type": "code",
   "execution_count": 43,
   "metadata": {},
   "outputs": [
    {
     "name": "stderr",
     "output_type": "stream",
     "text": [
      "/opt/homebrew/lib/python3.10/site-packages/sklearn/model_selection/_validation.py:540: FitFailedWarning: \n",
      "20 fits failed out of a total of 50.\n",
      "The score on these train-test partitions for these parameters will be set to nan.\n",
      "If these failures are not expected, you can try to debug them by setting error_score='raise'.\n",
      "\n",
      "Below are more details about the failures:\n",
      "--------------------------------------------------------------------------------\n",
      "20 fits failed with the following error:\n",
      "Traceback (most recent call last):\n",
      "  File \"/opt/homebrew/lib/python3.10/site-packages/sklearn/model_selection/_validation.py\", line 888, in _fit_and_score\n",
      "    estimator.fit(X_train, y_train, **fit_params)\n",
      "  File \"/opt/homebrew/lib/python3.10/site-packages/sklearn/base.py\", line 1473, in wrapper\n",
      "    return fit_method(estimator, *args, **kwargs)\n",
      "  File \"/opt/homebrew/lib/python3.10/site-packages/sklearn/linear_model/_logistic.py\", line 1301, in fit\n",
      "    raise ValueError(\n",
      "ValueError: This solver needs samples of at least 2 classes in the data, but the data contains only one class: np.int64(0)\n",
      "\n",
      "  warnings.warn(some_fits_failed_message, FitFailedWarning)\n"
     ]
    },
    {
     "data": {
      "image/png": "[encoded data removed]",
      "text/plain": [
       "<Figure size 1000x800 with 1 Axes>"
      ]
     },
     "metadata": {},
     "output_type": "display_data"
    }
   ],
   "source": [
    "plt = plot_learning_curve(model1, \n",
    "                          \"Learning Curves (Logistic Regression)\", \n",
    "                          X, y, ylim=(0.3, 1.02), cv=10, n_jobs=5)\n",
    "plt.show()"
   ]
  },
  {
   "cell_type": "code",
   "execution_count": 44,
   "metadata": {},
   "outputs": [
    {
     "data": {
      "image/png": "[encoded data removed]",
      "text/plain": [
       "<Figure size 1000x800 with 1 Axes>"
      ]
     },
     "metadata": {},
     "output_type": "display_data"
    }
   ],
   "source": [
    "plt = plot_learning_curve(model7, \n",
    "                          \"Learning Curves (RandomForestClassifier)\", \n",
    "                          X, y, ylim=(0.3, 1.02), cv=10, n_jobs=5)\n",
    "plt.show()"
   ]
  },
  {
   "cell_type": "code",
   "execution_count": 45,
   "metadata": {},
   "outputs": [],
   "source": [
    "def draw_feature_importances(model, features):\n",
    "    # Calculate feature importances using the provided model\n",
    "    importances = model.feature_importances_\n",
    "    \n",
    "    # Sort the indices of feature importances in descending order\n",
    "    indices = np.argsort(importances)[::-1]\n",
    "    \n",
    "    # Now 'indices' contains the indices of features sorted by their importance\n",
    "    # For example, if the first element of 'indices' is 2, then the third feature \n",
    "    # has the highest importance according to the model\n",
    "    \n",
    "    plt.figure(figsize=(10, 5))\n",
    "    plt.title(\"Feature importances\")\n",
    "    plt.bar(range(X.shape[1]), model.feature_importances_[indices],\n",
    "           color=\"b\", align=\"center\")\n",
    "    plt.xticks(range(X.shape[1]), [ features[x] for x in indices])\n",
    "    plt.xticks(rotation=90)\n",
    "    plt.xlim([-1, X.shape[1]])\n",
    "    plt.show()"
   ]
  },
  {
   "cell_type": "code",
   "execution_count": 46,
   "metadata": {},
   "outputs": [
    {
     "data": {
      "image/png": "[encoded data removed]",
      "text/plain": [
       "<Figure size 1000x500 with 1 Axes>"
      ]
     },
     "metadata": {},
     "output_type": "display_data"
    }
   ],
   "source": [
    "draw_feature_importances(model7, features)"
   ]
  }
 ],
 "metadata": {
  "kernelspec": {
   "display_name": "Python 3",
   "language": "python",
   "name": "python3"
  },
  "language_info": {
   "codemirror_mode": {
    "name": "ipython",
    "version": 3
   },
   "file_extension": ".py",
   "mimetype": "text/x-python",
   "name": "python",
   "nbconvert_exporter": "python",
   "pygments_lexer": "ipython3",
   "version": "3.10.13"
  }
 },
 "nbformat": 4,
 "nbformat_minor": 4
}
