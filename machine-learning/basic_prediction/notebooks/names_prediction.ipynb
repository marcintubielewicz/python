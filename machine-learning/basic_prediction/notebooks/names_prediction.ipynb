{
 "cells": [
  {
   "cell_type": "markdown",
   "metadata": {},
   "source": [
    "## Basic names prediction ##"
   ]
  },
  {
   "cell_type": "markdown",
   "metadata": {},
   "source": [
    "import neccessary libraries"
   ]
  },
  {
   "cell_type": "code",
   "execution_count": 156,
   "metadata": {},
   "outputs": [],
   "source": [
    "import pandas as pd  # Library for data manipulation and analysis\n",
    "import numpy as np  # Library for efficient numerical computation\n",
    "\n",
    "np.random.seed(0)  # Set the random seed for reproducibility\n",
    "\n",
    "from sklearn.dummy import DummyClassifier #  Library for dummy classifier, the simpliest model ;-)\n",
    "from sklearn.model_selection import train_test_split  # Function to split data into training and testing sets\n",
    "from sklearn.linear_model import LogisticRegression  # A linear model for classification tasks\n",
    "from sklearn.tree import DecisionTreeClassifier  # A tree-based model for classification tasks\n",
    "\n",
    "from sklearn.model_selection import train_test_split  # Function to split data into training and testing sets\n",
    "\n",
    "from sklearn.metrics import accuracy_score  # Metric to evaluate the accuracy of a model\n",
    "from sklearn.metrics import f1_score\n",
    "from sklearn.metrics import roc_auc_score, roc_curve, RocCurveDisplay\n",
    "\n",
    "import matplotlib.pyplot as plt  # Library for creating static, animated, and interactive visualizations\n",
    "\n",
    "# Display plots directly in the notebook\n",
    "%matplotlib inline  \n",
    "\n",
    "import os\n",
    "import requests\n",
    "import json\n",
    "import zipfile\n",
    "import io\n",
    "import urllib.request"
   ]
  },
  {
   "cell_type": "code",
   "execution_count": 155,
   "metadata": {},
   "outputs": [
    {
     "name": "stdout",
     "output_type": "stream",
     "text": [
      "Failed to download the file: 404\n"
     ]
    }
   ],
   "source": [
    "base_url = 'https://api.dane.gov.pl/datasets/1667,lista-imion-wystepujacych-w-rejestrze-pesel-osoby-zyjace/resources/'\n",
    "\n",
    "datasource_url = 'files/downloads/'\n",
    "data_target_directory = '/Users/marcintubielewicz/Documents/programming/github_portfolio/python/machine-learning/basic_prediction/data'\n",
    "\n",
    "if not os.path.exists(data_target_directory):\n",
    "    os.makedirs(data_target_directory)\n",
    "    \n",
    "response = requests.get(base_url)\n",
    "\n",
    "def download_url(url, data_target_directory):\n",
    "    with urllib.request.urlopen(url) as dl_file:\n",
    "        with open(data_target_directory, 'wb') as out_file:\n",
    "            out_file.write(dl_file.read())\n",
    "\n",
    "if response.status_code == 200:\n",
    "    data = response.json()\n",
    "    \n",
    "    download_url = base_url + datasource_url\n",
    "    \n",
    "    with requests.get(download_url, stream=True) as download:\n",
    "        if download.status_code == 200:\n",
    "\n",
    "            zip_file = zipfile.ZipFile(io.BytesIO(download.content))\n",
    "            # zip_file = 'Lista_imion_wystepujacych_w_rejestrze_PESEL'\n",
    "            \n",
    "            zip_file.extractall(data_target_directory)\n",
    "            \n",
    "            print(\"Data was downloaded and extracted successfully\")\n",
    "            print(f\"Files extracted to: {data_target_directory}\")\n",
    "            print(f\"Tytuł: {data['data']['attributes']['title']}\")\n",
    "            print(f\"Liczba pobrań: {data['data']['attributes']['downloads_count']}\")\n",
    "            print(f\"Liczba wyświetleń: {data['data']['attributes']['views_count']}\")\n",
    "        else:\n",
    "            print(f\"Failed to download the file: {download.status_code}\")\n",
    "else:\n",
    "    print(f\"File not found: {response.status_code}\")"
   ]
  },
  {
   "cell_type": "markdown",
   "metadata": {},
   "source": [
    "data source: https://dane.gov.pl/pl/dataset/1667,lista-imion-wystepujacych-w-rejestrze-pesel-osoby-zyjace"
   ]
  },
  {
   "cell_type": "code",
   "execution_count": 100,
   "metadata": {},
   "outputs": [],
   "source": [
    "url_male_names = '../data/Lista_imion_wystepujacych_w_rejestrze_PESEL/lista imion meskich w rejestrze PESEL stan na 19.01.2024  imie pierwsze_54109/8_-_Wykaz_imion_męskich_osób_żyjących_wg_pola_imię_pierwsze_występujących_w_rejestrze_PESEL_bez_zgonów.csv'\n",
    "url_female_names = '../data/Lista_imion_wystepujacych_w_rejestrze_PESEL/lista imion zenskich w rejestrze PESEL stan na 19.01.2024  imie pierwsze_54110/8_-_Wykaz_imion_żeńskich_osób_żyjących_wg_pola_imię_pierwsze_występujących_w_rejestrze_PESEL_bez_zgonów.csv'"
   ]
  },
  {
   "cell_type": "code",
   "execution_count": 101,
   "metadata": {},
   "outputs": [
    {
     "name": "stdout",
     "output_type": "stream",
     "text": [
      "<class 'pandas.core.frame.DataFrame'>\n",
      "Index: 61527 entries, 0 to 24473\n",
      "Data columns (total 3 columns):\n",
      " #   Column            Non-Null Count  Dtype \n",
      "---  ------            --------------  ----- \n",
      " 0   IMIĘ_PIERWSZE     61526 non-null  object\n",
      " 1   PŁEĆ              61527 non-null  object\n",
      " 2   LICZBA_WYSTĄPIEŃ  61527 non-null  int64 \n",
      "dtypes: int64(1), object(2)\n",
      "memory usage: 1.9+ MB\n"
     ]
    },
    {
     "data": {
      "text/plain": [
       "(None,\n",
       "       IMIĘ_PIERWSZE       PŁEĆ  LICZBA_WYSTĄPIEŃ\n",
       " 588           AHMAD  MĘŻCZYZNA               598\n",
       " 17015     BULGANMAA    KOBIETA                 2\n",
       " 210           LESIA    KOBIETA              7660\n",
       " 29126      OKTAVIUS  MĘŻCZYZNA                 2\n",
       " 2534          MOHIT  MĘŻCZYZNA                59\n",
       " 14246        TSYREN  MĘŻCZYZNA                 5\n",
       " 12559       LALAINE    KOBIETA                 4\n",
       " 1490           MIŁA    KOBIETA                93\n",
       " 3442        NICOLO'  MĘŻCZYZNA                38\n",
       " 13489       CARLENE    KOBIETA                 3)"
      ]
     },
     "execution_count": 101,
     "metadata": {},
     "output_type": "execute_result"
    }
   ],
   "source": [
    "male_names = pd.read_csv(url_male_names)\n",
    "female_names = pd.read_csv(url_female_names)\n",
    "\n",
    "df = pd.concat([male_names, female_names])\n",
    "df.info(), df.sample(10)"
   ]
  },
  {
   "cell_type": "code",
   "execution_count": 102,
   "metadata": {},
   "outputs": [
    {
     "data": {
      "text/plain": [
       "sex\n",
       "man      37053\n",
       "woman    24474\n",
       "Name: count, dtype: Int64"
      ]
     },
     "execution_count": 102,
     "metadata": {},
     "output_type": "execute_result"
    }
   ],
   "source": [
    "df.rename(columns={\n",
    "    'IMIĘ_PIERWSZE':'name',\n",
    "    'PŁEĆ':'sex',\n",
    "    'LICZBA_WYSTĄPIEŃ':'occurence'\n",
    "}, inplace=True)\n",
    "\n",
    "df['name'] = df['name'].astype('string')\n",
    "\n",
    "df['sex'] = df['sex'].map(lambda x: \"man\" if x == 'MĘŻCZYZNA' else 'woman').astype('string')\n",
    "\n",
    "df['target_value'] = df['sex'].map(lambda x:  1 if x == 'man' else 0).astype('int')\n",
    "\n",
    "df['sex'].value_counts()"
   ]
  },
  {
   "cell_type": "code",
   "execution_count": 103,
   "metadata": {},
   "outputs": [
    {
     "name": "stdout",
     "output_type": "stream",
     "text": [
      "<class 'pandas.core.frame.DataFrame'>\n",
      "Index: 61527 entries, 0 to 24473\n",
      "Data columns (total 4 columns):\n",
      " #   Column        Non-Null Count  Dtype \n",
      "---  ------        --------------  ----- \n",
      " 0   name          61526 non-null  string\n",
      " 1   sex           61527 non-null  string\n",
      " 2   occurence     61527 non-null  int64 \n",
      " 3   target_value  61527 non-null  int64 \n",
      "dtypes: int64(2), string(2)\n",
      "memory usage: 2.3 MB\n"
     ]
    }
   ],
   "source": [
    "df.info()"
   ]
  },
  {
   "cell_type": "code",
   "execution_count": 104,
   "metadata": {},
   "outputs": [
    {
     "data": {
      "text/html": [
       "<div>\n",
       "<style scoped>\n",
       "    .dataframe tbody tr th:only-of-type {\n",
       "        vertical-align: middle;\n",
       "    }\n",
       "\n",
       "    .dataframe tbody tr th {\n",
       "        vertical-align: top;\n",
       "    }\n",
       "\n",
       "    .dataframe thead th {\n",
       "        text-align: right;\n",
       "    }\n",
       "</style>\n",
       "<table border=\"1\" class=\"dataframe\">\n",
       "  <thead>\n",
       "    <tr style=\"text-align: right;\">\n",
       "      <th></th>\n",
       "      <th>name</th>\n",
       "      <th>sex</th>\n",
       "      <th>occurence</th>\n",
       "      <th>target_value</th>\n",
       "      <th>name_length</th>\n",
       "    </tr>\n",
       "  </thead>\n",
       "  <tbody>\n",
       "    <tr>\n",
       "      <th>8355</th>\n",
       "      <td>KAMILL</td>\n",
       "      <td>man</td>\n",
       "      <td>11</td>\n",
       "      <td>1</td>\n",
       "      <td>6</td>\n",
       "    </tr>\n",
       "    <tr>\n",
       "      <th>12735</th>\n",
       "      <td>ROBBE</td>\n",
       "      <td>man</td>\n",
       "      <td>6</td>\n",
       "      <td>1</td>\n",
       "      <td>5</td>\n",
       "    </tr>\n",
       "    <tr>\n",
       "      <th>31295</th>\n",
       "      <td>VON</td>\n",
       "      <td>man</td>\n",
       "      <td>2</td>\n",
       "      <td>1</td>\n",
       "      <td>3</td>\n",
       "    </tr>\n",
       "    <tr>\n",
       "      <th>18788</th>\n",
       "      <td>LOTI</td>\n",
       "      <td>man</td>\n",
       "      <td>3</td>\n",
       "      <td>1</td>\n",
       "      <td>4</td>\n",
       "    </tr>\n",
       "    <tr>\n",
       "      <th>36521</th>\n",
       "      <td>WANDILE</td>\n",
       "      <td>man</td>\n",
       "      <td>2</td>\n",
       "      <td>1</td>\n",
       "      <td>7</td>\n",
       "    </tr>\n",
       "  </tbody>\n",
       "</table>\n",
       "</div>"
      ],
      "text/plain": [
       "          name  sex  occurence  target_value  name_length\n",
       "8355    KAMILL  man         11             1            6\n",
       "12735    ROBBE  man          6             1            5\n",
       "31295      VON  man          2             1            3\n",
       "18788     LOTI  man          3             1            4\n",
       "36521  WANDILE  man          2             1            7"
      ]
     },
     "execution_count": 104,
     "metadata": {},
     "output_type": "execute_result"
    }
   ],
   "source": [
    "df = df.dropna(axis=0)\n",
    "df['name_length'] = df['name'].map(lambda x: len(x))\n",
    "df.sample(5)\n"
   ]
  },
  {
   "cell_type": "code",
   "execution_count": 105,
   "metadata": {},
   "outputs": [],
   "source": [
    "X = df[['name_length']].values\n",
    "y = df['target_value'].values"
   ]
  },
  {
   "cell_type": "code",
   "execution_count": 106,
   "metadata": {},
   "outputs": [],
   "source": [
    "def train_and_predict(X, y, model=None, metric=accuracy_score):\n",
    "    if model is None:\n",
    "        model = DummyClassifier()\n",
    "    model.fit(X, y)\n",
    "    y_pred = model.predict(X)\n",
    "    \n",
    "    print(model)\n",
    "    print('Distribution:', dict(zip(*np.unique(y_pred, return_counts=True))))\n",
    "    print('Accuracy: {:.2f}%'.format(metric(y, y_pred) * 100))\n",
    "    return y_pred"
   ]
  },
  {
   "cell_type": "code",
   "execution_count": 107,
   "metadata": {},
   "outputs": [
    {
     "name": "stdout",
     "output_type": "stream",
     "text": [
      "DummyClassifier()\n",
      "Distribution: {np.int64(1): np.int64(61526)}\n",
      "Accuracy: 60.22%\n"
     ]
    }
   ],
   "source": [
    "df['DummyClassifier_pred'] = train_and_predict(X, y)"
   ]
  },
  {
   "cell_type": "code",
   "execution_count": 108,
   "metadata": {},
   "outputs": [
    {
     "name": "stdout",
     "output_type": "stream",
     "text": [
      "LogisticRegression()\n",
      "Distribution: {np.int64(1): np.int64(61526)}\n",
      "Accuracy: 60.22%\n"
     ]
    }
   ],
   "source": [
    "model = LogisticRegression()\n",
    "# X = X.reshape(-1,1)\n",
    "df['LogReg_pred'] = train_and_predict(X, y, model)"
   ]
  },
  {
   "cell_type": "code",
   "execution_count": 109,
   "metadata": {},
   "outputs": [
    {
     "name": "stdout",
     "output_type": "stream",
     "text": [
      "DecisionTreeClassifier()\n",
      "Distribution: {np.int64(0): np.int64(31), np.int64(1): np.int64(61495)}\n",
      "Accuracy: 60.23%\n"
     ]
    }
   ],
   "source": [
    "model = DecisionTreeClassifier()\n",
    "df['DTreeClass_pred'] =train_and_predict(X, y, model)"
   ]
  },
  {
   "cell_type": "markdown",
   "metadata": {},
   "source": [
    "Basic feature engineering"
   ]
  },
  {
   "cell_type": "code",
   "execution_count": 110,
   "metadata": {},
   "outputs": [
    {
     "data": {
      "text/html": [
       "<div>\n",
       "<style scoped>\n",
       "    .dataframe tbody tr th:only-of-type {\n",
       "        vertical-align: middle;\n",
       "    }\n",
       "\n",
       "    .dataframe tbody tr th {\n",
       "        vertical-align: top;\n",
       "    }\n",
       "\n",
       "    .dataframe thead th {\n",
       "        text-align: right;\n",
       "    }\n",
       "</style>\n",
       "<table border=\"1\" class=\"dataframe\">\n",
       "  <thead>\n",
       "    <tr style=\"text-align: right;\">\n",
       "      <th></th>\n",
       "      <th>name</th>\n",
       "      <th>sex</th>\n",
       "      <th>occurence</th>\n",
       "      <th>target_value</th>\n",
       "      <th>name_length</th>\n",
       "      <th>DummyClassifier_pred</th>\n",
       "      <th>LogReg_pred</th>\n",
       "      <th>DTreeClass_pred</th>\n",
       "      <th>starts_with_vowel</th>\n",
       "      <th>ends_with_vowel</th>\n",
       "      <th>vowels_qty</th>\n",
       "    </tr>\n",
       "  </thead>\n",
       "  <tbody>\n",
       "    <tr>\n",
       "      <th>14718</th>\n",
       "      <td>ZIHUI</td>\n",
       "      <td>woman</td>\n",
       "      <td>3</td>\n",
       "      <td>0</td>\n",
       "      <td>5</td>\n",
       "      <td>1</td>\n",
       "      <td>1</td>\n",
       "      <td>1</td>\n",
       "      <td>0</td>\n",
       "      <td>1</td>\n",
       "      <td>3</td>\n",
       "    </tr>\n",
       "    <tr>\n",
       "      <th>2303</th>\n",
       "      <td>TRACY</td>\n",
       "      <td>woman</td>\n",
       "      <td>42</td>\n",
       "      <td>0</td>\n",
       "      <td>5</td>\n",
       "      <td>1</td>\n",
       "      <td>1</td>\n",
       "      <td>1</td>\n",
       "      <td>0</td>\n",
       "      <td>1</td>\n",
       "      <td>2</td>\n",
       "    </tr>\n",
       "    <tr>\n",
       "      <th>15961</th>\n",
       "      <td>EUNSUK</td>\n",
       "      <td>woman</td>\n",
       "      <td>3</td>\n",
       "      <td>0</td>\n",
       "      <td>6</td>\n",
       "      <td>1</td>\n",
       "      <td>1</td>\n",
       "      <td>1</td>\n",
       "      <td>1</td>\n",
       "      <td>0</td>\n",
       "      <td>3</td>\n",
       "    </tr>\n",
       "    <tr>\n",
       "      <th>4437</th>\n",
       "      <td>MIKOLAI</td>\n",
       "      <td>man</td>\n",
       "      <td>26</td>\n",
       "      <td>1</td>\n",
       "      <td>7</td>\n",
       "      <td>1</td>\n",
       "      <td>1</td>\n",
       "      <td>1</td>\n",
       "      <td>0</td>\n",
       "      <td>1</td>\n",
       "      <td>4</td>\n",
       "    </tr>\n",
       "    <tr>\n",
       "      <th>13493</th>\n",
       "      <td>QUE</td>\n",
       "      <td>man</td>\n",
       "      <td>5</td>\n",
       "      <td>1</td>\n",
       "      <td>3</td>\n",
       "      <td>1</td>\n",
       "      <td>1</td>\n",
       "      <td>1</td>\n",
       "      <td>0</td>\n",
       "      <td>1</td>\n",
       "      <td>2</td>\n",
       "    </tr>\n",
       "    <tr>\n",
       "      <th>16893</th>\n",
       "      <td>THỊ THANH HOA</td>\n",
       "      <td>woman</td>\n",
       "      <td>2</td>\n",
       "      <td>0</td>\n",
       "      <td>13</td>\n",
       "      <td>1</td>\n",
       "      <td>1</td>\n",
       "      <td>1</td>\n",
       "      <td>0</td>\n",
       "      <td>1</td>\n",
       "      <td>3</td>\n",
       "    </tr>\n",
       "    <tr>\n",
       "      <th>25218</th>\n",
       "      <td>VAN NGO</td>\n",
       "      <td>man</td>\n",
       "      <td>2</td>\n",
       "      <td>1</td>\n",
       "      <td>7</td>\n",
       "      <td>1</td>\n",
       "      <td>1</td>\n",
       "      <td>1</td>\n",
       "      <td>0</td>\n",
       "      <td>1</td>\n",
       "      <td>2</td>\n",
       "    </tr>\n",
       "    <tr>\n",
       "      <th>1206</th>\n",
       "      <td>DANNY</td>\n",
       "      <td>man</td>\n",
       "      <td>183</td>\n",
       "      <td>1</td>\n",
       "      <td>5</td>\n",
       "      <td>1</td>\n",
       "      <td>1</td>\n",
       "      <td>1</td>\n",
       "      <td>0</td>\n",
       "      <td>1</td>\n",
       "      <td>2</td>\n",
       "    </tr>\n",
       "    <tr>\n",
       "      <th>30988</th>\n",
       "      <td>NEMATKHON</td>\n",
       "      <td>man</td>\n",
       "      <td>2</td>\n",
       "      <td>1</td>\n",
       "      <td>9</td>\n",
       "      <td>1</td>\n",
       "      <td>1</td>\n",
       "      <td>1</td>\n",
       "      <td>0</td>\n",
       "      <td>0</td>\n",
       "      <td>3</td>\n",
       "    </tr>\n",
       "    <tr>\n",
       "      <th>9583</th>\n",
       "      <td>NGOC HA</td>\n",
       "      <td>woman</td>\n",
       "      <td>5</td>\n",
       "      <td>0</td>\n",
       "      <td>7</td>\n",
       "      <td>1</td>\n",
       "      <td>1</td>\n",
       "      <td>1</td>\n",
       "      <td>0</td>\n",
       "      <td>1</td>\n",
       "      <td>2</td>\n",
       "    </tr>\n",
       "  </tbody>\n",
       "</table>\n",
       "</div>"
      ],
      "text/plain": [
       "                name    sex  occurence  target_value  name_length  \\\n",
       "14718          ZIHUI  woman          3             0            5   \n",
       "2303           TRACY  woman         42             0            5   \n",
       "15961         EUNSUK  woman          3             0            6   \n",
       "4437         MIKOLAI    man         26             1            7   \n",
       "13493            QUE    man          5             1            3   \n",
       "16893  THỊ THANH HOA  woman          2             0           13   \n",
       "25218        VAN NGO    man          2             1            7   \n",
       "1206           DANNY    man        183             1            5   \n",
       "30988      NEMATKHON    man          2             1            9   \n",
       "9583         NGOC HA  woman          5             0            7   \n",
       "\n",
       "       DummyClassifier_pred  LogReg_pred  DTreeClass_pred  starts_with_vowel  \\\n",
       "14718                     1            1                1                  0   \n",
       "2303                      1            1                1                  0   \n",
       "15961                     1            1                1                  1   \n",
       "4437                      1            1                1                  0   \n",
       "13493                     1            1                1                  0   \n",
       "16893                     1            1                1                  0   \n",
       "25218                     1            1                1                  0   \n",
       "1206                      1            1                1                  0   \n",
       "30988                     1            1                1                  0   \n",
       "9583                      1            1                1                  0   \n",
       "\n",
       "       ends_with_vowel  vowels_qty  \n",
       "14718                1           3  \n",
       "2303                 1           2  \n",
       "15961                0           3  \n",
       "4437                 1           4  \n",
       "13493                1           2  \n",
       "16893                1           3  \n",
       "25218                1           2  \n",
       "1206                 1           2  \n",
       "30988                0           3  \n",
       "9583                 1           2  "
      ]
     },
     "execution_count": 110,
     "metadata": {},
     "output_type": "execute_result"
    }
   ],
   "source": [
    "vowels = set('aeiouyAEIOUY')\n",
    "\n",
    "df['starts_with_vowel'] = df['name'].map(lambda x: x[0] in vowels).astype('int')\n",
    "df['ends_with_vowel'] = df['name'].map(lambda x: x[-1] in vowels).astype('int')\n",
    "\n",
    "df['vowels_qty'] = df['name'].apply(lambda name: sum(1 for x in name if x in vowels))\n",
    "\n",
    "df.sample(10)"
   ]
  },
  {
   "cell_type": "code",
   "execution_count": 115,
   "metadata": {},
   "outputs": [
    {
     "name": "stdout",
     "output_type": "stream",
     "text": [
      "LogisticRegression()\n",
      "Distribution: {np.int64(0): np.int64(28312), np.int64(1): np.int64(33214)}\n",
      "Accuracy: 70.96%\n"
     ]
    },
    {
     "data": {
      "text/plain": [
       "array([1, 1, 1, ..., 0, 0, 1])"
      ]
     },
     "execution_count": 115,
     "metadata": {},
     "output_type": "execute_result"
    }
   ],
   "source": [
    "model = LogisticRegression()\n",
    "features = ['name_length','starts_with_vowel', 'ends_with_vowel', 'vowels_qty']\n",
    "\n",
    "X = df[features]\n",
    "train_and_predict(X, y, model)\n"
   ]
  },
  {
   "cell_type": "code",
   "execution_count": 116,
   "metadata": {},
   "outputs": [
    {
     "name": "stdout",
     "output_type": "stream",
     "text": [
      "DecisionTreeClassifier()\n",
      "Distribution: {np.int64(0): np.int64(27145), np.int64(1): np.int64(34381)}\n",
      "Accuracy: 71.64%\n"
     ]
    },
    {
     "data": {
      "text/plain": [
       "array([1, 1, 1, ..., 0, 0, 1])"
      ]
     },
     "execution_count": 116,
     "metadata": {},
     "output_type": "execute_result"
    }
   ],
   "source": [
    "model = DecisionTreeClassifier()\n",
    "train_and_predict(X, y, model)"
   ]
  },
  {
   "cell_type": "code",
   "execution_count": 117,
   "metadata": {},
   "outputs": [
    {
     "name": "stdout",
     "output_type": "stream",
     "text": [
      "XGBClassifier(base_score=None, booster=None, callbacks=None,\n",
      "              colsample_bylevel=None, colsample_bynode=None,\n",
      "              colsample_bytree=None, device=None, early_stopping_rounds=None,\n",
      "              enable_categorical=False, eval_metric=None, feature_types=None,\n",
      "              gamma=None, grow_policy=None, importance_type=None,\n",
      "              interaction_constraints=None, learning_rate=1, max_bin=None,\n",
      "              max_cat_threshold=None, max_cat_to_onehot=None,\n",
      "              max_delta_step=None, max_depth=2, max_leaves=None,\n",
      "              min_child_weight=None, missing=nan, monotone_constraints=None,\n",
      "              multi_strategy=None, n_estimators=2, n_jobs=None,\n",
      "              num_parallel_tree=None, random_state=None, ...)\n",
      "Distribution: {np.int64(0): np.int64(28382), np.int64(1): np.int64(33144)}\n",
      "Accuracy: 71.00%\n"
     ]
    },
    {
     "data": {
      "text/plain": [
       "array([1, 1, 1, ..., 0, 0, 1])"
      ]
     },
     "execution_count": 117,
     "metadata": {},
     "output_type": "execute_result"
    }
   ],
   "source": [
    "from xgboost import XGBClassifier\n",
    "\n",
    "model = XGBClassifier(n_estimators=2, max_depth=2, learning_rate=1, objective='binary:logistic')\n",
    "train_and_predict(X, y, model)\n"
   ]
  }
 ],
 "metadata": {
  "kernelspec": {
   "display_name": "Python 3",
   "language": "python",
   "name": "python3"
  },
  "language_info": {
   "codemirror_mode": {
    "name": "ipython",
    "version": 3
   },
   "file_extension": ".py",
   "mimetype": "text/x-python",
   "name": "python",
   "nbconvert_exporter": "python",
   "pygments_lexer": "ipython3",
   "version": "3.10.13"
  }
 },
 "nbformat": 4,
 "nbformat_minor": 2
}
